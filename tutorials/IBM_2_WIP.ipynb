{
  "nbformat": 4,
  "nbformat_minor": 0,
  "metadata": {
    "colab": {
      "provenance": [],
      "include_colab_link": true
    },
    "kernelspec": {
      "name": "python3",
      "display_name": "Python 3"
    },
    "language_info": {
      "name": "python"
    }
  },
  "cells": [
    {
      "cell_type": "markdown",
      "metadata": {
        "id": "view-in-github",
        "colab_type": "text"
      },
      "source": [
        "<a href=\"https://colab.research.google.com/github/mAUgneys/brownie_fund_me/blob/main/tutorials/IBM_2_WIP.ipynb\" target=\"_parent\"><img src=\"https://colab.research.google.com/assets/colab-badge.svg\" alt=\"Open In Colab\"/></a>"
      ]
    },
    {
      "cell_type": "markdown",
      "source": [
        "> # Generating an Individual-based Model: Part 2\n",
        "\n",
        "*****\n",
        "\n",
        "In Part 2, we'll be going through one of the most important elements of Python for our model: Python dictionaries. We'll be covering what we use them for, how they work, how to create them, and how to edit them.\n",
        "\n",
        "> ### Running All Cells in Order\n",
        "\n",
        "Always remember to run all cells in order as your progress through. Not running cells in order will almost always lead to errors.\n",
        "\n",
        "By clicking on \"Runtime\" at the top of the page, you can at any point choose \"Run before\" to run all cells before the currently selected one. If any of the cells contain an error, this will cause the \"Run before\" option to stop. You can press it again to continue.\n",
        "\n",
        "> ### Indentation Guides and Line Numbers in Colab\n",
        "\n",
        "We recommend turning on line numbering and indentation guides within colab. To do this, follow these steps:\n",
        "\n",
        "1.   Click on \"Tools\" at the top of the page.\n",
        "2.   Then click on \"Settings\".\n",
        "3.   Go to \"Editor\".\n",
        "4.   Scroll down on the \"Editor\" tab and there will be check boxes.\n",
        "5.   Make sure you have \"show line numbers\" and \"show indentation lines\" checked.\n",
        "\n",
        "> ### Contents\n",
        "\n",
        "If you click on the top icon on the left hand side of this page with the three horizontal lines ![](https://drive.google.com/file/d/1bByUyghofx1paajHtUxiGJCVPyrytsaZ/view?usp=share_link) you will see the contents for this session.\n",
        "\n",
        "*****"
      ],
      "metadata": {
        "id": "FRu-U7PdzsBm"
      }
    },
    {
      "cell_type": "markdown",
      "source": [
        "> ### Python Dictionaries\n",
        "\n",
        "Throughout our models, we will make extensive use of python dictionaries to store, reference and edit all of the data we will generate.\n",
        "\n"
      ],
      "metadata": {
        "id": "1wDl8T0L2wXj"
      }
    },
    {
      "cell_type": "markdown",
      "source": [
        "> #### Creating Dictionaries\n",
        "\n",
        "In a python dictionary, data is stored in \"key:value\" pairs.\n",
        "\n",
        "Let's create an empty dictionary named `person_0`. To do this we create our variable `person_0` and assign it a value of empty curly brackets `{}`."
      ],
      "metadata": {
        "id": "V5MhrEYcmpKv"
      }
    },
    {
      "cell_type": "code",
      "source": [
        "person_0 = {}"
      ],
      "metadata": {
        "id": "aY4Ttm5F4oZw"
      },
      "execution_count": null,
      "outputs": []
    },
    {
      "cell_type": "markdown",
      "source": [
        "Remember that this is different to a list. An empty list is created using `[]` square brackets."
      ],
      "metadata": {
        "id": "uE9LRDw94saL"
      }
    },
    {
      "cell_type": "code",
      "source": [
        "our_list = []"
      ],
      "metadata": {
        "id": "ZM8wCYcR43aT"
      },
      "execution_count": null,
      "outputs": []
    },
    {
      "cell_type": "markdown",
      "source": [
        "To store data in our new `person_0` dictionary, we will need to create keys and assign them values. These keys must be unique and can't be duplicated within the same dictionary.\n",
        "\n",
        "Let's create a \"key:value\" pair to store a name in our dictionary. We will call our key `'name'`. Because in this instance our key is a string of text, it must be contained within single or double qoutation marks. We'll need a value to complete our \"key:value\" pair. We'll use `'Bob'` as the value we pair with our `'name'` key."
      ],
      "metadata": {
        "id": "qiWA1uxb5Dfv"
      }
    },
    {
      "cell_type": "code",
      "source": [
        "person_0 = {'name':'Bob'}"
      ],
      "metadata": {
        "id": "w0I59k-06lZO"
      },
      "execution_count": null,
      "outputs": []
    },
    {
      "cell_type": "markdown",
      "source": [
        "We use a `:` colon to separate our keys and values within the pair.\n",
        "\n",
        "Now we have created a dictionary with our first \"key:value\" pair! Let's add a second \"key:value\" pair for storing an age, and a third to give our person an ID. We can add more pairs by separating each of them with a `,` comma."
      ],
      "metadata": {
        "id": "VspJPQuj6stm"
      }
    },
    {
      "cell_type": "code",
      "source": [
        "person_0 = {'id':0, 'name':'Bob', 'age':43}"
      ],
      "metadata": {
        "id": "WtLNgk317WVN"
      },
      "execution_count": null,
      "outputs": []
    },
    {
      "cell_type": "markdown",
      "source": [
        "Because the values for our `'age'` and `'id'` keys are numbers and not strings, they don't need the same double or single qoutation marks.\n",
        "\n",
        "Each person could have many \"key:value\" pairs stored within their dictionary.\n",
        "\n",
        "Let's now make a second dictionary for a second person in the exact same way."
      ],
      "metadata": {
        "id": "hiCpwHu97gbu"
      }
    },
    {
      "cell_type": "code",
      "source": [
        "person_1 = {'id':1, 'name':'Sarah', 'age':70}"
      ],
      "metadata": {
        "id": "_4k6jprz8A0a"
      },
      "execution_count": null,
      "outputs": []
    },
    {
      "cell_type": "markdown",
      "source": [
        "\n",
        "> #### Accesing Data in Dictionaries\n",
        "\n",
        "One of the reasons for storing and organising all of our data into dictionaries is that it's very easy for us to view and update that data if we need to. Let's look at how we can find data stored in our dictionaries.\n",
        "\n",
        "Let's start by printing out our `person_1` dictionary.\n",
        "\n",
        "As always, remember to run all cells in order up to this point."
      ],
      "metadata": {
        "id": "SKdxlJZxAi-V"
      }
    },
    {
      "cell_type": "code",
      "source": [
        "print(person_1)"
      ],
      "metadata": {
        "id": "Eea7fWhKDJk5"
      },
      "execution_count": null,
      "outputs": []
    },
    {
      "cell_type": "markdown",
      "source": [
        "This shows us all of the information contained within `person_1`. To find the value for a specific key, we will need to use that key, as a 'reference'. Let's see how we do that.\n",
        "\n",
        "If, for example, we wanted to find the age of person 1 we would need to use 'age' as our reference."
      ],
      "metadata": {
        "id": "0Q_hauQ4DL7N"
      }
    },
    {
      "cell_type": "code",
      "source": [
        "print(person_1['age'])"
      ],
      "metadata": {
        "id": "DuiDMU-RDzTF"
      },
      "execution_count": null,
      "outputs": []
    },
    {
      "cell_type": "markdown",
      "source": [
        "We first write the name of the dictionary we would like to access, then, within `[]` square brackets, we put the name of our key `'age'`.\n",
        "\n",
        "Try printing the name of person 0 in the code cell below."
      ],
      "metadata": {
        "id": "0I_hWvz3D2_X"
      }
    },
    {
      "cell_type": "markdown",
      "source": [
        "### Answer here"
      ],
      "metadata": {
        "id": "jICEBf7QMBCJ"
      }
    },
    {
      "cell_type": "code",
      "source": [
        "\n",
        "\n"
      ],
      "metadata": {
        "id": "X8E1BarNEPz_"
      },
      "execution_count": null,
      "outputs": []
    },
    {
      "cell_type": "code",
      "source": [
        "#@title ### Solution\n",
        "\n",
        "print(person_0['name'])"
      ],
      "metadata": {
        "id": "G65jQ_LREQ4S",
        "cellView": "form"
      },
      "execution_count": null,
      "outputs": []
    },
    {
      "cell_type": "markdown",
      "source": [
        "So far, we have only used numbers or strings of text as values within our \"key:value\" pairs. We can however, store all sorts of data as values. The most useful thing we will be storing in our dictionaries is more dictionaries. Let's try to show how this will work.\n",
        "\n",
        "We have two dictionaries so far, one for each person. Now we'd like a place to store both of these dictionaries.\n",
        "\n",
        "Let's create a dictionary named `time_1`. Within it, we'll create a \"key:value\" pair for each person. We'll use each person's ID as the key, and the value will be their dictionary."
      ],
      "metadata": {
        "id": "NbVYbWLS8MLM"
      }
    },
    {
      "cell_type": "code",
      "source": [
        "time_1 = {0:person_0, 1:person_1}"
      ],
      "metadata": {
        "id": "ydtYv4wW-bP-"
      },
      "execution_count": null,
      "outputs": []
    },
    {
      "cell_type": "markdown",
      "source": [
        "In this case we are storing a variable (our `person_0` and `person_1` dictionaries) as the value in our \"key:value\" pairs. Now we have a very convenient way of storing as many people's data as we want.\n",
        "\n",
        "Let's print `time_1` to check what it contains."
      ],
      "metadata": {
        "id": "YYr_-9nH-omy"
      }
    },
    {
      "cell_type": "code",
      "source": [
        "print(time_1)"
      ],
      "metadata": {
        "id": "-ls7j2y3iJ_w"
      },
      "execution_count": null,
      "outputs": []
    },
    {
      "cell_type": "markdown",
      "source": [
        "It can get confusing when we start printing entire dictionaries, especially as we add more data to them.\n",
        "\n",
        "Within our outer curly brakets we have two \"key:value\" pairs. The first has a key `0` and it's value is the dictionary `person_0`. There is a comma separating the second \"key:value\" pair."
      ],
      "metadata": {
        "id": "t9EqC2c7i-Ah"
      }
    },
    {
      "cell_type": "markdown",
      "source": [
        "If we want to access some specific data from within this dictionary we use the exact same method as we did before.\n",
        "\n",
        "We first reference the ID of the person who's dictionary we would like to see. Then we follow that by referencing the specific key for whichever value we are looking for.\n",
        "\n",
        "As an example, let's see how we would find the name of person 0."
      ],
      "metadata": {
        "id": "b6MNlWxQej1Z"
      }
    },
    {
      "cell_type": "code",
      "source": [
        "print(time_1[0]['name'])"
      ],
      "metadata": {
        "id": "bo1EnwaRfe2E"
      },
      "execution_count": null,
      "outputs": []
    },
    {
      "cell_type": "markdown",
      "source": [
        "By using `time_1` and referencing the `[0]` key, we can access the `person_0` dictionary stored as that key's value. We then reference the `['name']` key within the `person_0` dictionary to access its value."
      ],
      "metadata": {
        "id": "UoE0pYhrq5ko"
      }
    },
    {
      "cell_type": "markdown",
      "source": [
        "Now try printing the age of person 1 in the cell below."
      ],
      "metadata": {
        "id": "mMi7J7qjfvsP"
      }
    },
    {
      "cell_type": "markdown",
      "source": [
        "### Answer here"
      ],
      "metadata": {
        "id": "wFzuRAomMIPL"
      }
    },
    {
      "cell_type": "code",
      "source": [
        "\n",
        "\n"
      ],
      "metadata": {
        "id": "m5pbahNqf3zC"
      },
      "execution_count": null,
      "outputs": []
    },
    {
      "cell_type": "code",
      "source": [
        "#@title ### Solution\n",
        "\n",
        "print(time_1[1]['age'])"
      ],
      "metadata": {
        "id": "1qEq6qV3f4kz",
        "cellView": "form"
      },
      "execution_count": null,
      "outputs": []
    },
    {
      "cell_type": "markdown",
      "source": [
        "By using dictionaries like this we can store all of the information from our model in an intuitive way that is easy to work with.\n",
        "\n",
        "When using the model, we will add one more layer to our dictionaries. You have already seen how we can store each individual's data within our `time_1` dictionary. Let's imagine that this is the data from the first [time step](https://colab.research.google.com/drive/1UiFBeS50N08SC5_vIFqBgbLfPa2p6seO?authuser=5#scrollTo=_GHZNgqabOjH) of the model. Each time step when we loop through the model, we will generate a new dictionary with everyone's data for that time step.\n",
        "\n",
        "Let's create new dictionaries for time step 2 and 3. They will also include person 0 and 1's dictionaries.\n",
        "\n",
        "**Note**\n",
        "In our model, the data within our individuals' dictionaries will be changing between time steps. Only in this example are we using the same data each time step for simplicity."
      ],
      "metadata": {
        "id": "Usc2ges_gH7S"
      }
    },
    {
      "cell_type": "code",
      "source": [
        "time_1 = {0:person_0, 1:person_1}\n",
        "\n",
        "time_2 = {0:person_0, 1:person_1}\n",
        "\n",
        "time_3 = {0:person_0, 1:person_1}"
      ],
      "metadata": {
        "id": "azw1A62HiqrV"
      },
      "execution_count": null,
      "outputs": []
    },
    {
      "cell_type": "markdown",
      "source": [
        "Storing our data in this way will allow us to update and change any values, for each individual, as we need to. It also let's us keep a log of everything that has happened throughout the time the model has run. We're able to look back at any time step within the model, and check which values a specific individual had."
      ],
      "metadata": {
        "id": "QimQG_LUuq8R"
      }
    },
    {
      "cell_type": "markdown",
      "source": [
        "We need an easy way to store all of this data so to do that we create one more dictionary. We can call this the `model_dictionary`. For this dictionary, the keys will be the time step number and the values, will be the corresponding `time_n` dictionary from that time step.\n",
        "\n",
        "\n"
      ],
      "metadata": {
        "id": "fuwHCLuAiwoF"
      }
    },
    {
      "cell_type": "code",
      "source": [
        "model_dictionary = {'time_step_1':time_1, 'time_step_2':time_2, 'time_step_3':time_3}"
      ],
      "metadata": {
        "id": "4z0wcwyJjaHR"
      },
      "execution_count": null,
      "outputs": []
    },
    {
      "cell_type": "markdown",
      "source": [
        "So in our `model_dictionary`, the first \"key:value\" pair is `'time_step_1':time_1`.\n",
        "\n",
        "Now we have all of the data from our model in one place and we can access any value, from any individual, during any time step. We'll access this information in the same way as we did before.\n",
        "\n",
        "To access any value from our entire dictionary structure, we just need to reference three things.\n",
        "\n",
        "1.   The time step we would like a value from.\n",
        "2.   The individual we would like a value from during that time step.\n",
        "3.   What variable for that individual we would like the value for.\n",
        "\n",
        "Let's see how we would get the age of person 1, during time step 3.\n",
        "\n",
        "\n",
        "\n",
        "\n"
      ],
      "metadata": {
        "id": "roY2jnufjoVG"
      }
    },
    {
      "cell_type": "code",
      "source": [
        "print(model_dictionary['time_step_3'][1]['age'])"
      ],
      "metadata": {
        "id": "YquQH0k5lqht"
      },
      "execution_count": null,
      "outputs": []
    },
    {
      "cell_type": "markdown",
      "source": [
        "We first enter the name of the dictionary we want to access, `model_dictionary`. We then use the key for time step 3 `'time_step_3'`. Next we reference the id of the person we are looking for, `1`. Finally we reference the key for the variable we need the value for, `'age'`.\n",
        "\n",
        "We will use this method frequently in the model to store and reference data as we go.\n",
        "\n",
        "Try printing the age of person 1 at time step 2."
      ],
      "metadata": {
        "id": "M1b_Zq3Pl2YL"
      }
    },
    {
      "cell_type": "markdown",
      "source": [
        "### Answer here"
      ],
      "metadata": {
        "id": "TTLbzfQhNjI-"
      }
    },
    {
      "cell_type": "code",
      "source": [
        "\n",
        "\n"
      ],
      "metadata": {
        "id": "vZtJg3b-NeW5"
      },
      "execution_count": null,
      "outputs": []
    },
    {
      "cell_type": "code",
      "source": [
        "#@title ### Solution\n",
        "\n",
        "print(model_dictionary['time_step_2'][1]['age'])"
      ],
      "metadata": {
        "id": "sraQr01hNj4J",
        "cellView": "form"
      },
      "execution_count": null,
      "outputs": []
    },
    {
      "cell_type": "markdown",
      "source": [
        "> #### Adding to Dictionaries\n",
        "\n",
        "Now we've seen how dictionaries work, we need to learn how we can add new \"key:value\" pairs to a dictionary that already exists. In the model, we will often start with an empty dictionary which we can later populate with \"key:value\" pairs.\n",
        "\n",
        "One of the ways we can do this is by creating a new key, in square brackets `[]`, and assigning a value to that using an equals sign `=`. Let's see how that would look.\n",
        "\n",
        "Let's create a `person_2`dictionary. We'll start by choosing the variable name `person_2`and make it an empty dictionary using curly brackets `{}`."
      ],
      "metadata": {
        "id": "JLsKsehybjB4"
      }
    },
    {
      "cell_type": "code",
      "source": [
        "person_2 = {}"
      ],
      "metadata": {
        "id": "pCMQ4WYkenmt"
      },
      "execution_count": null,
      "outputs": []
    },
    {
      "cell_type": "markdown",
      "source": [
        "Make sure to run the cells in order!\n",
        "\n",
        "Now we have a new empty dictionary but we need to add some key:value pairs. First we will assign the person an ID."
      ],
      "metadata": {
        "id": "iPBCEdyneq4u"
      }
    },
    {
      "cell_type": "code",
      "source": [
        "person_2['id'] = 4"
      ],
      "metadata": {
        "id": "naApjJGWfRaE"
      },
      "execution_count": null,
      "outputs": []
    },
    {
      "cell_type": "markdown",
      "source": [
        "So we put the name of the dictionary we'd like to add a value to `person_2`. Using square brackets we choose the name of the key we'd like to add `['id']`. And using the equals sign, we choose the value we will assign to that key, `4`.\n",
        "\n",
        "Let's print our new key to check it has been added."
      ],
      "metadata": {
        "id": "VpFDvAhOfZ_c"
      }
    },
    {
      "cell_type": "code",
      "source": [
        "print(person_2['id'])"
      ],
      "metadata": {
        "id": "GK2HuZjsgQu1"
      },
      "execution_count": null,
      "outputs": []
    },
    {
      "cell_type": "markdown",
      "source": [
        "Now we have added a new key value pair to our dictionary. It doesn't make much sense for person 3 to have the id 4. Let's fix that.\n",
        "\n",
        "This method can also be used to overwrite the value of a key which already exists. Let's change their ID to 3 and use print to check that it works."
      ],
      "metadata": {
        "id": "Cbx88GQdgNkt"
      }
    },
    {
      "cell_type": "code",
      "source": [
        "person_2['id'] = 2\n",
        "\n",
        "print(person_2['id'])"
      ],
      "metadata": {
        "id": "Q7EAT92sgxNS"
      },
      "execution_count": null,
      "outputs": []
    },
    {
      "cell_type": "markdown",
      "source": [
        "Perfect!\n",
        "\n",
        "Person 2 will also need a name, and an age. Try using the same method to create new key value pairs for person 2 in the cell below.\n",
        "\n"
      ],
      "metadata": {
        "id": "AN0SDWpyg4q4"
      }
    },
    {
      "cell_type": "markdown",
      "source": [
        "### Answer here"
      ],
      "metadata": {
        "id": "xcDjTSAruQMA"
      }
    },
    {
      "cell_type": "code",
      "source": [
        "\n",
        "\n"
      ],
      "metadata": {
        "id": "ya6enXNKhmuD"
      },
      "execution_count": null,
      "outputs": []
    },
    {
      "cell_type": "code",
      "source": [
        "#@title #### Solution\n",
        "\n",
        "person_2['name'] = 'Mary'\n",
        "\n",
        "person_2['age'] = 29"
      ],
      "metadata": {
        "id": "kZPgKGX7hnbL",
        "cellView": "form"
      },
      "execution_count": null,
      "outputs": []
    },
    {
      "cell_type": "markdown",
      "source": [
        "Let's print our `person_2` dictionary again to check that it's worked."
      ],
      "metadata": {
        "id": "MrQJxZESiZVh"
      }
    },
    {
      "cell_type": "code",
      "source": [
        "print(person_2)"
      ],
      "metadata": {
        "id": "KugzXD4oiinZ"
      },
      "execution_count": null,
      "outputs": []
    },
    {
      "cell_type": "markdown",
      "source": [
        "***Note*** If you run the solution cell above, the `person_2` dictionary will contain the values assigned in the solution cell, instead of the values used in your answer. This is because we are overwriting the value of our `person_2` dictionary each time we run the cell. Whichever cell we run last, will be the current value stored in the dictionary.\n",
        "\n",
        "Let's go back and remember our structure. For each time step, we store each person's dictionary. Let's now add person 3 into our `time_1`, `time_2` and `time_3` dictionaries. We'll do this in the same way."
      ],
      "metadata": {
        "id": "7Bo9u6H5io2j"
      }
    },
    {
      "cell_type": "code",
      "source": [
        "time_1[2] = person_2\n",
        "\n",
        "time_2[2] = person_2\n",
        "\n",
        "time_3[2] = person_2"
      ],
      "metadata": {
        "id": "99zHGic4FuG1"
      },
      "execution_count": null,
      "outputs": []
    },
    {
      "cell_type": "markdown",
      "source": [
        "Remember that the keys used for our `person_n` dictionaries within `time_n` dictionaries, was the id of each person. In this case, the key `2`, and the value `person_2` is used with 2 being their ID.\n",
        "\n",
        "Now we have updated all of our `time_n` dictionaries to contain `person_2`, let's go over the entire dictionary structure we have created.\n",
        "\n"
      ],
      "metadata": {
        "id": "9H6o4xVZF4-r"
      }
    },
    {
      "cell_type": "markdown",
      "source": [
        "> #### The `keys()` Method\n",
        "\n",
        "We can use `keys()` \"method\" to see a list of all of the keys within a dictionary. A \"method\" works like a function except for how we use it.\n",
        "\n",
        "Let's use the `keys()` method to print out a list of all the keys in our `model_dictionary`.\n",
        "\n",
        "**Note** We won't need to use this method in the model but it is helpful here to let us see the contents of our dictionaries."
      ],
      "metadata": {
        "id": "yVmPtg5JNNHZ"
      }
    },
    {
      "cell_type": "code",
      "source": [
        "print(model_dictionary.keys())"
      ],
      "metadata": {
        "id": "dVh6YQ4zH4-J"
      },
      "execution_count": null,
      "outputs": []
    },
    {
      "cell_type": "markdown",
      "source": [
        "As you can see, we first put the name of the dictionary we're using, followed by `.keys()`.\n",
        "\n",
        "Our `model_dictionary` contains keys for each time step dictionary.\n",
        "\n",
        "Let's now access one of those time step dictionaries and use the `keys()` method again to check its keys."
      ],
      "metadata": {
        "id": "EWEpx46kOKzG"
      }
    },
    {
      "cell_type": "code",
      "source": [
        "print(model_dictionary['time_step_1'].keys())"
      ],
      "metadata": {
        "id": "GFV8j83jO9r2"
      },
      "execution_count": null,
      "outputs": []
    },
    {
      "cell_type": "markdown",
      "source": [
        "We can [access the data](#scrollTo=SKdxlJZxAi-V&line=1&uniqifier=1) in the same way as we have before and then check the keys again.\n",
        "\n",
        "Our time step dictionary contains keys with the ID's of each person stored within it.\n",
        "\n",
        "This time we can just print the entire contents of the dictionary we are trying to access."
      ],
      "metadata": {
        "id": "FaVMs5LbPDlT"
      }
    },
    {
      "cell_type": "code",
      "source": [
        "print(model_dictionary['time_step_1'][2])"
      ],
      "metadata": {
        "id": "lrivtQY2PyZD"
      },
      "execution_count": null,
      "outputs": []
    },
    {
      "cell_type": "markdown",
      "source": [
        "We'll end by printing the entire `model_dictionary`."
      ],
      "metadata": {
        "id": "8i0R-zWqa61x"
      }
    },
    {
      "cell_type": "code",
      "source": [
        "print(model_dictionary)"
      ],
      "metadata": {
        "id": "N4Am2qpabKM4"
      },
      "execution_count": null,
      "outputs": []
    },
    {
      "cell_type": "markdown",
      "source": [
        "> # Overview\n",
        "\n",
        "Now we can create, access, and edit any number of individuals for any number of time steps using dictionaries!\n",
        "\n",
        "Using dictionaries in this way is a large part of the model and understanding how this works will be incredibly useful in understanding the model as a whole. We'd recommend spending some time attempting to create, access and edit these dictionaries yourself until you feel completely comfortable with how they work."
      ],
      "metadata": {
        "id": "mZBMDcMwQF5R"
      }
    },
    {
      "cell_type": "markdown",
      "source": [
        "># Tutorial Index\n",
        "\n",
        "##[Part 1](https://colab.research.google.com/drive/1QF_aUgIkM-H1JXJRBb9DSONohC2WEvbH?usp=sharing)\n",
        " - Introduction to Colab, time steps, variables, print function, range function, \"for\" loops\n",
        "\n",
        "##[Part 2](https://colab.research.google.com/drive/1VVSDFXGtIgJEqEgp1rqltUfluhuhdYW9?usp=sharing)\n",
        " - Python dictionaries, accessing and updating dictionaries, the keys method\n",
        "\n",
        "##[Part 3](https://colab.research.google.com/drive/1TSGba5w_nuRXd7QAYWWPT2tMVccaqc8I?usp=sharing)\n",
        " - Time step loop, population loop, combining loops and using dictionaries\n",
        "\n",
        "##[Part 4](https://colab.research.google.com/drive/1wq0BeCgVVWPj_SIFzsTyjA_KKzAUtDZb?usp=sharing)\n",
        " - Generating random numbers/ages, round function, \"if\" statements, updating variable values, the first time step, all other time steps\n",
        "\n",
        "##[Part 5](https://colab.research.google.com/drive/1G-GHM-A6Z1dk0YBGI8cqX6EekJ5i-hrR?usp=sharing)\n",
        " - Random choice method, pandas and using tables, using probabilities, \"else\" statements\n",
        "\n",
        "##[Part 6](https://colab.research.google.com/drive/1gBYGIQK42XN2ovG-EFA7LQW_2dO_GC7f?usp=sharing)\n",
        " - Adding body mass index (BMI), \"elif\" statements, creating and calling a function, docstrings\n",
        "\n",
        "##[Part 7](https://colab.research.google.com/drive/1FVKyP-51IjwW4A6CAmufuZGXx7e0sG0_?usp=sharing)\n",
        " - Refactoring updating rules into functions\n",
        "\n",
        "##[Part 8](https://colab.research.google.com/drive/1_ZmPJPcsy6soCnDJSU7SeTElAJb7-rna?usp=sharing)\n",
        " - Visualizing changes in variable distribution over time, matplotlib and pyplot, values method\n",
        "\n",
        "##[Part 9](https://colab.research.google.com/drive/1PjHptwX-SkJepsFeqEhrDr738V2euRiO?usp=sharing)\n",
        " - Adding blood pressure, ordering and data selection, append method\n",
        "\n",
        "##[Part 10](https://colab.research.google.com/drive/1fb8XkWEsCi-BVkzUtQKwYrrUej-aqCCg?usp=sharing)\n",
        " - Adding mortality, age-specific death rate, booleans, integrating deaths into the model.\n",
        "\n",
        "##[Part 11](https://colab.research.google.com/drive/1T7QWmeDBux6Y2N-OR3Pt80qJoAlPBcfB?usp=sharing)\n",
        "- CVD death risk, the math.exp method, adding cause of death, \"None\" keyword\n",
        "\n",
        "##[Part 12](https://colab.research.google.com/drive/1lsSSGO07vefkhjp5mF2BodRB2OhgtyAv?usp=sharing)\n",
        "- Life years (person-years at risk), CVD death rate, simulating health policy intervention\n",
        "\n",
        "##[Part 13](https://colab.research.google.com/drive/1_T14-Dv3G_oTMpRRIdu1VpXrPG0mHaci?usp=sharing)\n",
        "- Adding time of death, running model with intervention, comparing results between groups, creating plots."
      ],
      "metadata": {
        "id": "CxhKYzopgWLw"
      }
    },
    {
      "cell_type": "markdown",
      "source": [
        "### If you have any feedback please contact andrew.phillips@ucl.ac.uk."
      ],
      "metadata": {
        "id": "hwN8RkMgdXIq"
      }
    }
  ]
}